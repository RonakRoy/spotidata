{
 "cells": [
  {
   "cell_type": "markdown",
   "metadata": {},
   "source": [
    "# spotidata Interactive\n",
    "Uses the spotidata command-line toolsuite to fetch songs from your saved music library, saved albums, and playlists, output/analyze/graph the data, and generate playlists from the source music with feature filters."
   ]
  },
  {
   "cell_type": "markdown",
   "metadata": {},
   "source": [
    "## Setup"
   ]
  },
  {
   "cell_type": "code",
   "execution_count": 1,
   "metadata": {},
   "outputs": [],
   "source": [
    "import sys\n",
    "sys.path.append('../')\n",
    "\n",
    "import api.spotify as spotify\n",
    "import api.utils as utils\n",
    "\n",
    "from api.spotify import FeatureType, FeatureFilter\n",
    "\n",
    "import clt.input_tools as clinput\n",
    "import clt.spotidata as spotidata\n",
    "import clt.visualizer as viz"
   ]
  },
  {
   "cell_type": "markdown",
   "metadata": {},
   "source": [
    "First, we need to load the application data and username, and login."
   ]
  },
  {
   "cell_type": "code",
   "execution_count": 6,
   "metadata": {},
   "outputs": [],
   "source": [
    "username, scope = spotidata.boot('config.yml')\n",
    "with spotify.login(username, scope) as sp_login:\n",
    "    sp = sp_login"
   ]
  },
  {
   "cell_type": "markdown",
   "metadata": {},
   "source": [
    "## Music Sources\n",
    "Now, you'll need to choose where you want the source music to come from. You can either specify these using the picker below, which allows you choose individual playlists, indivudual albums (from the ones you've saved to your library), and whether or not to use all the songs you individually saved to your library."
   ]
  },
  {
   "cell_type": "code",
   "execution_count": 7,
   "metadata": {},
   "outputs": [
    {
     "name": "stdout",
     "output_type": "stream",
     "text": [
      "Do you want me to analyze your saved songs? (enter 'y' or 'n'): n\n",
      "\n",
      "Saved Albums:\n",
      "  [0] Origins (Deluxe) by Imagine Dragons\n",
      "  [1] The Click by AJR\n",
      "  [2] Neotheater by AJR\n",
      "  [3] Social Cues by Cage The Elephant\n",
      "  [4] Blurryface by Twenty One Pilots\n",
      "  [5] Trench by Twenty One Pilots\n",
      "Which albums would you like to include in the analysis? (enter a comma-separated list of numbers and ranges (ex: '1,3,5-10'), with valid indecies and range endpoint between 0 to 5, inclusive): 0-3\n",
      "\n",
      "Playlists:\n",
      "  [0] vibe n' move\n",
      "  [1] move\n",
      "  [2] yerb\n",
      "  [3] caffeine\n",
      "  [4] chill\n",
      "  [5] even chiller\n",
      "  [6] what ronak listens to\n",
      "  [7] bippity bops\n",
      "  [8] chill bops\n",
      "  [9] we boolin' n we boppin'\n",
      "  [10] des rocs\n",
      "  [11] cage the elephant\n",
      "  [12] arrested youth\n",
      "  [13] sam tinnesz\n",
      "  [14] the score\n",
      "  [15] grandson\n",
      "  [16] foreign air\n",
      "  [17] the neighbourhood\n",
      "  [18] the unlikely candidates\n",
      "  [19] twenty one pilots\n",
      "  [20] the glitch mob\n",
      "  [21] listen to these things\n",
      "  [22] Your Top Songs 2019\n",
      "  [23] Tastebreakers\n",
      "  [24] Your Top Songs 2018\n",
      "  [25] i didn't really like tastebreakers\n",
      "  [26] I am INEVITABLE\n",
      "  [27] songs that are kind of meme-y but not aggressively so\n",
      "  [28] Past Robot Reveal Songs 2018\n",
      "  [29] Narwhal Robot Reveal Songs\n",
      "  [30] what. just. what.\n",
      "  [31] Discover Weekly\n",
      "  [32] lets get these minebops\n",
      "  [33] Liked from Radio\n",
      "Which playlists would you like to include in the analysis? (enter a comma-separated list of numbers and ranges (ex: '1,3,5-10'), with valid indecies and range endpoint between 0 to 33, inclusive): 7\n",
      "============\n",
      "including songs from:\n",
      "  - the following albums: Origins (Deluxe) by Imagine Dragons, The Click by AJR, Neotheater by AJR, and Social Cues by Cage The Elephant\n",
      "  - the following playlists: bippity bops\n"
     ]
    }
   ],
   "source": [
    "# Music source picker\n",
    "use_saved_tracks = clinput.input_boolean(\"Do you want me to analyze your saved songs?\")\n",
    "print()\n",
    "print(\"Saved Albums:\")\n",
    "queried_albums = clinput.input_sublist(\"Which albums would you like to include in the analysis?\", sp.get_saved_albums())\n",
    "print()\n",
    "print(\"Playlists:\")\n",
    "queried_playlists = clinput.input_sublist(\"Which playlists would you like to include in the analysis?\", sp.get_playlists())\n",
    "\n",
    "print(\"=\"*12)\n",
    "print(\"including songs from:\")\n",
    "if use_saved_tracks:\n",
    "    print(\"  - your Saved Music library\")\n",
    "if len(queried_albums) != 0:\n",
    "    print(\"  - the following albums: {}\".format(utils.get_english_list(queried_albums)))\n",
    "if len(queried_playlists) != 0:\n",
    "    print(\"  - the following playlists: {}\".format(utils.get_english_list(queried_playlists)))"
   ]
  },
  {
   "cell_type": "markdown",
   "metadata": {},
   "source": [
    "Now, we can pull all tracks from those sources and get the features, courtesy of the Spotify API."
   ]
  },
  {
   "cell_type": "code",
   "execution_count": 9,
   "metadata": {},
   "outputs": [
    {
     "name": "stdout",
     "output_type": "stream",
     "text": [
      "Fetching songs...\n",
      "   Done.\n",
      "Getting features...\n",
      "   Done.\n"
     ]
    }
   ],
   "source": [
    "print(\"Fetching songs...\")\n",
    "tracks = sp.get_tracks(use_saved_tracks, [album.id for album in queried_albums], [playlist.id for playlist in queried_playlists])\n",
    "print(\"   Done.\")\n",
    "\n",
    "print(\"Getting features...\")\n",
    "for track in tracks:\n",
    "    track.load_features(sp)\n",
    "print(\"   Done.\")"
   ]
  },
  {
   "cell_type": "markdown",
   "metadata": {},
   "source": [
    "If you'd like, you can print out all of the tracks, their artists, and their features in a delimeted spreadsheet format. Unfortunaely, because of all of the commas present in titles and artists, you might not be able to use a CSV-format, so specify the delimeter to your liking."
   ]
  },
  {
   "cell_type": "code",
   "execution_count": 10,
   "metadata": {},
   "outputs": [
    {
     "name": "stdout",
     "output_type": "stream",
     "text": [
      "Song Title---Artists---Energy---Danceability---Key---Loudness---Mode---Speechiness---Acousticness---Instrumentalness---Liveness---Valence---Tempo\n",
      "Nightlight---Silversun Pickups---0.6---0.865---B----5.63---minor---0.0393---0.104---0.677---0.116---0.401---125.992\n",
      "Frontlines---Zeds Dead, NGHTMRE, and GG Magree---0.407---0.925---B----4.155---minor---0.0747---0.0113---0.0025---0.192---0.119---151.993\n",
      "Three-Thirty---AJR---0.661---0.626---F#/G♭----6.106---minor---0.135---0.305---0---0.345---0.691---95.971\n",
      "Finale (Can't Wait To See What You Do Next)---AJR---0.539---0.517---F----6.999---major---0.0272---0.0956---0---0.111---0.408---82.987\n",
      "still feel.---half•alive---0.779---0.525---A#/B♭----5.756---minor---0.0487---0.148---0---0.0675---0.698---120.018\n",
      "Break My Face---AJR---0.451---0.661---A#/B♭----6.961---minor---0.0976---0.00321---0---0.108---0.444---180.133\n",
      "My Blood---Twenty One Pilots---0.749---0.723---C#/D♭----6.609---major---0.0432---0.0563---0.022---0.0977---0.674---108.999\n",
      "Pretender (feat. Lil Yachty & AJR)---Steve Aoki, Lil Yachty, and AJR---0.637---0.778---F----3.642---minor---0.0706---0.0248---0---0.228---0.286---103.093\n",
      "youth---cleopatrick---0.483---0.829---G----3.974---minor---0.0419---0.000524---0.0211---0.564---0.396---94.947\n",
      "Love---Imagine Dragons---0.697---0.507---G#/A♭----6.178---major---0.04---0.0535---1.19e-06---0.0469---0.382---82.483\n",
      "Happy Pills---Weathers---0.521---0.885---E----4.934---minor---0.125---0.00327---0.00904---0.324---0.344---115.985\n",
      "Stick Up---grandson---0.31---0.932---B----4.764---minor---0.262---0.000261---3.71e-06---0.349---0.304---135.944\n",
      "West Coast---Imagine Dragons---0.672---0.715---C----6.18---major---0.0268---0.581---2.08e-06---0.101---0.677---104.989\n",
      "Reckless Tongue---Airways---0.532---0.892---B----4.698---minor---0.071---0.00261---0.000519---0.228---0.808---85.99\n",
      "Burn the House Down---AJR---0.454---0.66---C----4.357---major---0.168---0.0364---0---0.181---0.568---184.353\n",
      "Bet on You---The Man Who---0.528---0.679---C#/D♭----4.363---major---0.0332---0.00323---6.7e-05---0.132---0.299---157.906\n",
      "Unstoppable---The Score---0.484---0.844---C#/D♭----3.995---minor---0.0468---0.00128---1.03e-05---0.14---0.611---78.001\n",
      "I'm Not Famous---AJR---0.627---0.815---F----6.01---major---0.0688---0.002---0---0.324---0.666---95.072\n",
      "Riot!---Arrested Youth---0.554---0.761---G#/A♭----6.86---major---0.0631---0.0984---0---0.104---0.592---81.988\n",
      "Jumpsuit---Twenty One Pilots---0.619---0.628---B----8.307---minor---0.038---0.00781---0.207---0.206---0.232---127.065\n",
      "Feel It Still---Portugal. The Man---0.78---0.798---C#/D♭----5.151---minor---0.0613---0.0406---6.31e-05---0.0733---0.771---78.969\n",
      "Our Song---Vinyl Theatre---0.546---0.763---C#/D♭----5.945---minor---0.04---0.0282---0---0.117---0.585---149.958\n",
      "Ready To Let Go---Cage The Elephant---0.72---0.893---C#/D♭----3.279---major---0.0376---0.0109---2.52e-05---0.0729---0.795---100.96\n",
      "Nowhere to Go (Instrumental)---Arch Leaves---0.455---0.608---F----7.257---minor---0.0299---0.0223---0.0198---0.0878---0.393---87.258\n",
      "House Of Glass---Cage The Elephant---0.526---0.926---F#/G♭----2.537---minor---0.139---0.00239---0.219---0.072---0.552---146.895\n",
      "Chosen Ones---Mountains vs. Machines---0.436---0.804---F----3.94---major---0.0313---0.000222---0.00154---0.257---0.428---85.001\n",
      "One Foot---Airways---0.521---0.837---F----4.581---major---0.122---0.000192---0.051---0.0929---0.623---80.027\n",
      "Tokyo Smoke---Cage The Elephant---0.454---0.953---F#/G♭----3.05---minor---0.152---1.67e-05---0.0825---0.106---0.446---142.971\n",
      "Digital---Imagine Dragons---0.49---0.889---G----5.179---major---0.17---0.00155---2.76e-06---0.162---0.383---166.779\n",
      "Magic---SAINT PHNX---0.595---0.719---B----5.513---minor---0.055---0.151---0---0.136---0.43---116.062\n",
      "Social Cues---Cage The Elephant---0.668---0.913---A----3.097---major---0.0348---0.0119---6.59e-06---0.111---0.933---132.039\n",
      "Meteorite---Emmit Fenn---0.51---0.745---G#/A♭----7.277---major---0.0845---0.0468---0.0011---0.0773---0.0988---127.426\n",
      "Karma---AJR---0.528---0.727---F#/G♭----5.739---major---0.179---0.0557---0---0.176---0.212---155.927\n",
      "Overture---AJR---0.347---0.608---C----6.09---major---0.0362---0.147---0---0.0381---0.274---97.001\n",
      "Daddy Issues---The Neighbourhood---0.588---0.521---A#/B♭----9.461---major---0.0329---0.0678---0.149---0.123---0.337---85.012\n",
      "Don't Throw Out My Legos---AJR---0.629---0.583---D----6.274---major---0.0415---0.142---0---0.118---0.492---147.036\n",
      "Call My Dad---AJR---0.577---0.171---D----12.543---major---0.255---0.744---0---0.0958---0.351---95.21\n",
      "Young And Menace---Fall Out Boy---0.647---0.808---A#/B♭----5.085---minor---0.0574---0.107---0.000458---0.126---0.266---107.99\n",
      "The Mystic---Adam Jensen---0.557---0.721---E----5.134---minor---0.0416---0.356---0---0.146---0.392---125.324\n",
      "The War Is Over---Cage The Elephant---0.535---0.919---B----3.609---minor---0.0713---0.0192---0---0.35---0.518---98.963\n",
      "Wow, I'm Not Crazy---AJR---0.284---0.609---D#/E♭----6.033---major---0.123---0.0438---0---0.177---0.521---85.386\n",
      "Love's The Only Way---Cage The Elephant---0.342---0.331---C----8.884---major---0.0287---0.637---0---0.105---0.106---130.859\n",
      "Black Madonna---Cage The Elephant---0.706---0.728---E----3.184---minor---0.035---0.0012---0.0693---0.0753---0.966---109.987\n",
      "Skin and Bones---Cage The Elephant---0.539---0.788---A----3.228---minor---0.0397---0.0089---0---0.29---0.357---159.983\n",
      "Echo---Foreign Air---0.619---0.805---G----6.643---major---0.034---0.0223---0.000586---0.0838---0.45---101.989\n",
      "The Other Side Of Paradise---Glass Animals---0.689---0.338---B----7.634---minor---0.0629---0.349---5.7e-05---0.0649---0.568---128.012\n",
      "Born For This---The Score---0.631---0.684---F----6.27---minor---0.0405---0.0576---0---0.0938---0.528---129.974\n",
      "Come Hang Out---AJR---0.611---0.684---G----6.485---minor---0.0607---0.00387---0---0.047---0.43---91.072\n",
      "Bud Like You---AJR---0.635---0.545---D----5.445---major---0.0431---0.0638---0---0.594---0.674---124.861\n",
      "Machine---Imagine Dragons---0.638---0.679---E----5.278---major---0.0425---0.0016---0.00655---0.121---0.596---81.045\n",
      "Radioactive---Imagine Dragons---0.448---0.784---A----3.686---major---0.0627---0.106---0.000108---0.668---0.236---136.245\n",
      "Drama---AJR---0.558---0.624---D----6.042---major---0.169---0.2---0---0.11---0.69---156.07\n",
      "Bad Liar---Imagine Dragons---0.383---0.637---D#/E♭----6.993---major---0.0703---0.0722---0---0.368---0.0827---177.913\n",
      "Believer---Imagine Dragons---0.776---0.78---A#/B♭----4.374---minor---0.128---0.0622---0---0.081---0.666---124.949\n",
      "Pet Cheetah---Twenty One Pilots---0.653---0.684---G----7.052---minor---0.199---0.0615---0.000387---0.27---0.355---110.049\n",
      "The Good Part---AJR---0.283---0.443---F----5.377---major---0.0372---0.0929---3.36e-05---0.382---0.534---185.873\n",
      "A Painting in Paris---Arrested Youth---0.699---0.702---F#/G♭----7.955---minor---0.0642---0.0828---0.00147---0.0667---0.608---75.012\n",
      "Tip Toes---half•alive---0.679---0.801---F----5.598---major---0.163---0.0419---4.85e-06---0.11---0.517---130.035\n",
      "What I'm Becoming---Cage The Elephant---0.57---0.472---C----5.175---major---0.0285---0.00366---0.00275---0.0891---0.219---134.974\n",
      "Zero - From the Original Motion Picture \"Ralph Breaks The Internet\"---Imagine Dragons---0.634---0.662---F#/G♭----7.543---major---0.0325---0.000479---0.00142---0.111---0.244---90.011\n",
      "Adhd---Truslow---0.64---0.849---F----2.766---major---0.0526---0.285---0---0.0768---0.667---97.045\n",
      "Immortals---Fall Out Boy---0.615---0.868---D----3.606---major---0.07---0.00131---1.54e-06---0.671---0.475---108.017\n",
      "We Don't Believe What's on TV---Twenty One Pilots---0.547---0.936---A----4.023---major---0.102---0.23---3.04e-06---0.172---0.642---120.003\n",
      "Area---MagnusTheMagnus---0.681---0.698---A----5.464---minor---0.0595---0.0631---0.464---0.0535---0.643---156.059\n",
      "Babel (feat. Super Duper)---Sam Tinnesz and Super Duper---0.464---0.736---B----6.008---minor---0.0348---0.0229---7.43e-05---0.149---0.353---146.98\n",
      "Broken Boy---Cage The Elephant---0.52---0.931---E----3.051---major---0.0969---0.0018---0.000281---0.115---0.557---166.027\n",
      "Goodbye---Cage The Elephant---0.347---0.326---E----7.198---minor---0.0309---0.312---0.00603---0.107---0.0501---101.998\n",
      "thoughts & prayers---grandson---0.491---0.925---A----2.701---major---0.0697---0.00142---0.000112---0.282---0.333---150.046\n",
      "Birds---Imagine Dragons---0.649---0.517---C#/D♭----7.428---minor---0.0297---0.0146---1.63e-06---0.145---0.35---119.997\n",
      "Night Running---Cage The Elephant and Beck---0.602---0.946---E----2.298---minor---0.0654---0.066---1.13e-05---0.388---0.58---141.925\n",
      "The Way It Was---Coast Modern---0.595---0.749---E----5.992---major---0.0541---0.066---4.24e-05---0.0798---0.636---80.033\n",
      "The News---Arrested Youth---0.565---0.598---B----7.265---minor---0.0339---0.0147---2.56e-05---0.103---0.36---137.002\n",
      "Stuck---Imagine Dragons---0.621---0.478---F----8.246---major---0.0351---0.263---0---0.257---0.248---115.023\n",
      "Burn Out---Imagine Dragons---0.588---0.494---A#/B♭----8.831---minor---0.0536---0.0213---7.2e-05---0.0966---0.291---135.004\n",
      "Centuries---Fall Out Boy---0.394---0.858---E----2.868---minor---0.0729---0.00359---0---0.102---0.56---176.044\n",
      "Dance Dance---Cage The Elephant---0.61---0.762---D----2.703---major---0.0271---0.00179---0.000432---0.28---0.727---106.029\n",
      "Sober Up---AJR and Rivers Cuomo---0.651---0.568---F----6.774---major---0.0275---0.282---0---0.0862---0.805---93.006\n",
      "hometown---cleopatrick---0.315---0.826---G----4.315---minor---0.0644---0.000621---0.000669---0.0703---0.359---139.163\n",
      "Chlorine---Twenty One Pilots---0.609---0.674---A#/B♭----7.388---minor---0.0548---0.0735---0.06---0.345---0.315---90.009\n",
      "Thank God I'm Not You---Himalayas---0.542---0.828---B----3.91---minor---0.0536---0.00175---0.0136---0.06---0.785---126.037\n",
      "Good Times Roll---GRiZ and Big Gigantic---0.677---0.874---C#/D♭----5.445---major---0.129---0.0219---0.00738---0.973---0.58---100.012\n",
      "Natural---Imagine Dragons---0.704---0.611---D----6.112---major---0.0409---0.217---0---0.0812---0.22---100.0\n",
      "Netflix Trip---AJR---0.492---0.688---G----5.309---major---0.0403---0.0426---0---0.136---0.445---94.962\n",
      "Real Life---Imagine Dragons---0.262---0.564---C----7.99---major---0.0455---0.0147---0.00659---0.103---0.13---195.489\n",
      "World In My Pocket---The Unlikely Candidates---0.649---0.885---G----5.042---major---0.137---0.0156---0---0.0668---0.301---89.994\n",
      "Message Man---Twenty One Pilots---0.715---0.838---D----6.077---minor---0.118---0.0897---0---0.15---0.497---120.007\n",
      "The Entertainment's Here---AJR---0.646---0.626---F----6.351---major---0.0729---0.0167---8.7e-06---0.112---0.372---83.981\n",
      "Beats---AJR---0.59---0.682---C----7.223---major---0.0564---0.0198---0---0.178---0.665---125.055\n",
      "6:00---grandson---0.292---0.81---E----6.365---major---0.213---0.000615---0.000598---0.3---0.349---96.152\n",
      "In One Ear---Cage The Elephant---0.326---0.948---C#/D♭----4.315---minor---0.0606---0.000258---0---0.367---0.358---166.388\n",
      "Novocaine---The Unlikely Candidates---0.652---0.833---A#/B♭----4.898---major---0.0392---0.00191---0.000536---0.122---0.231---116.043\n",
      "Who I Am---The Score---0.548---0.688---G#/A♭----5.207---minor---0.0332---0.0113---0---0.15---0.646---80.042\n",
      "Best Friends---grandson---0.506---0.932---F----6.11---minor---0.11---0.000719---0.0594---0.174---0.549---99.929\n",
      "Turning Out Pt. ii---AJR---0.431---0.19---A----9.362---major---0.0371---0.859---0---0.1---0.128---76.925\n",
      "Bells---The Unlikely Candidates---0.383---0.713---G----0.483---major---0.0393---0.282---0---0.11---0.261---76.959\n",
      "Ready To Let Go---Cage The Elephant---0.719---0.896---C#/D♭----3.263---major---0.037---0.011---3.25e-05---0.0731---0.746---100.962\n",
      "Do It All The Time---I DONT KNOW HOW BUT THEY FOUND ME---0.795---0.597---B----6.395---minor---0.0327---0.106---0---0.113---0.849---110.014\n",
      "Only---Imagine Dragons---0.691---0.803---A----5.029---major---0.0355---0.015---0---0.0862---0.424---104.997\n",
      "Birthday Party---AJR---0.707---0.462---C#/D♭----6.696---major---0.117---0.0732---0---0.199---0.547---83.994\n",
      "Turning Out---AJR---0.6---0.481---D#/E♭----7.317---major---0.0382---0.17---0---0.138---0.476---97.021\n",
      "Feel It All---Vinyl Theatre---0.62---0.867---D----5.98---minor---0.0644---0.00444---0.00251---0.324---0.502---150.032\n",
      "Boomerang---Imagine Dragons---0.429---0.559---D----7.493---major---0.152---0.139---0.00928---0.121---0.347---100.073\n",
      "F.W.T.B.---YONAKA---0.621---0.931---C----2.775---major---0.0893---0.005---0.0168---0.171---0.661---147.028\n",
      "100 Bad Days---AJR---0.626---0.639---A#/B♭----5.62---major---0.085---0.0465---0---0.161---0.638---144.009\n",
      "Dear Winter---AJR---0.633---0.217---F----9.717---major---0.045---0.789---0---0.293---0.546---94.13\n",
      "Cool Out---Imagine Dragons---0.636---0.718---C#/D♭----4.833---minor---0.0313---0.00483---6.51e-06---0.292---0.437---143.929\n",
      "home ft. WALK THE MOON---morgxn and WALK THE MOON---0.665---0.709---B----3.643---major---0.037---0.0371---0---0.323---0.841---100.001\n",
      "Bullet In A Gun---Imagine Dragons---0.816---0.735---G#/A♭----5.49---major---0.0539---0.16---0.000108---0.0665---0.476---130.029\n",
      "Weak---AJR---0.669---0.579---F----6.341---major---0.0468---0.131---0---0.19---0.66---123.979\n",
      "Thunder---Imagine Dragons---0.605---0.822---C----4.833---major---0.0438---0.00671---0.134---0.147---0.288---167.997\n",
      "No Grass Today---AJR---0.698---0.497---A#/B♭----6.628---major---0.0418---0.254---0---0.423---0.592---92.017\n",
      "Next Up Forever---AJR---0.373---0.569---A#/B♭----7.846---major---0.0515---0.205---4.19e-05---0.377---0.274---89.918\n"
     ]
    }
   ],
   "source": [
    "delimiter = '---'\n",
    "for line in spotidata.get_delimited_spreadsheet(tracks, delimiter):\n",
    "    print(line)"
   ]
  },
  {
   "cell_type": "markdown",
   "metadata": {},
   "source": [
    "## Feature Visualization\n",
    "Because we have a lot of numbers, we can make fun histograms and pie charts and bar graphs for all of the music you selected.\n",
    "\n",
    "The actual definition of each of the features can be found on [Spotify's API docs, linked here](https://developer.spotify.com/documentation/web-api/reference/tracks/get-audio-features/#audio-features-object)."
   ]
  },
  {
   "cell_type": "code",
   "execution_count": null,
   "metadata": {},
   "outputs": [],
   "source": [
    "%matplotlib inline\n",
    "viz.plot_all_features(tracks)"
   ]
  },
  {
   "cell_type": "markdown",
   "metadata": {},
   "source": [
    "## Feature Filtering\n",
    "In addition to just looking at the distribution of features for the songs, we can also get subsets of these songs based on `FeatureFilter`s, which are defined on ranges (for the numerical features) or lists of values (for the discrete-valued filters of key and mode).\n",
    "\n",
    "In addition to the `Track.satisfies_all(filters)` and `Track.satsisfies_any(filters)`, you can also use `FeatureFilter.is_satisfied_by(track)` to make more complex filter predicates."
   ]
  },
  {
   "cell_type": "code",
   "execution_count": null,
   "metadata": {},
   "outputs": [],
   "source": [
    "# These filters attempt to make a lower-energy playlist.\n",
    "filters = [\n",
    "    FeatureFilter(FeatureType.ENERGY,       min_val=   0.0, max_val=   0.6),\n",
    "    FeatureFilter(FeatureType.TEMPO,        min_val=   0.0, max_val= 130.0),\n",
    "    FeatureFilter(FeatureType.LOUDNESS,     min_val= -60.0, max_val=  -7.0)\n",
    "]\n",
    "\n",
    "predicate = lambda track : track.satisfies_all(filters)"
   ]
  },
  {
   "cell_type": "code",
   "execution_count": null,
   "metadata": {},
   "outputs": [],
   "source": [
    "# These filters attempt to make a dance-y playlist\n",
    "filters = [\n",
    "    FeatureFilter(FeatureType.ENERGY,         min_val=    0.6,  max_val=    1.0),\n",
    "    FeatureFilter(FeatureType.DANCEABILITY,   min_val=    0.65, max_val=    1.0)\n",
    "]\n",
    "\n",
    "predicate = lambda track : track.satisfies_all(filters)"
   ]
  },
  {
   "cell_type": "code",
   "execution_count": null,
   "metadata": {},
   "outputs": [],
   "source": [
    "# These filters attempt to make a very high energy playlist\n",
    "filters = [\n",
    "    FeatureFilter(FeatureType.ENERGY,         min_val=    0.85, max_val=    1.0)\n",
    "]\n",
    "\n",
    "predicate = lambda track : track.satisfies_all(filters)"
   ]
  },
  {
   "cell_type": "markdown",
   "metadata": {},
   "source": [
    "Now, we can get the tracks that satisfy our predicate..."
   ]
  },
  {
   "cell_type": "code",
   "execution_count": null,
   "metadata": {},
   "outputs": [],
   "source": [
    "filtered_tracks = spotify.get_tracks_that_satisfy_predicate(tracks, predicate)"
   ]
  },
  {
   "cell_type": "markdown",
   "metadata": {},
   "source": [
    "visualize them with respect to our source songs..."
   ]
  },
  {
   "cell_type": "code",
   "execution_count": null,
   "metadata": {},
   "outputs": [],
   "source": [
    "viz.plot_all_features(tracks, filtered_tracks)"
   ]
  },
  {
   "cell_type": "markdown",
   "metadata": {},
   "source": [
    "and create a playlist with those songs."
   ]
  },
  {
   "cell_type": "code",
   "execution_count": null,
   "metadata": {},
   "outputs": [],
   "source": [
    "sp.create_playlist(\"vibes\", filtered_tracks)"
   ]
  },
  {
   "cell_type": "code",
   "execution_count": null,
   "metadata": {},
   "outputs": [],
   "source": []
  }
 ],
 "metadata": {
  "kernelspec": {
   "display_name": "Python 3",
   "language": "python",
   "name": "python3"
  },
  "language_info": {
   "codemirror_mode": {
    "name": "ipython",
    "version": 3
   },
   "file_extension": ".py",
   "mimetype": "text/x-python",
   "name": "python",
   "nbconvert_exporter": "python",
   "pygments_lexer": "ipython3",
   "version": "3.7.6"
  }
 },
 "nbformat": 4,
 "nbformat_minor": 4
}
