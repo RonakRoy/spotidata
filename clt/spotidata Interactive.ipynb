{
 "cells": [
  {
   "cell_type": "markdown",
   "metadata": {},
   "source": [
    "# spotidata Interactive\n",
    "Uses the spotidata command-line toolsuite to fetch songs from your saved music library, saved albums, and playlists, output/analyze/graph the data, and "
   ]
  },
  {
   "cell_type": "code",
   "execution_count": null,
   "metadata": {},
   "outputs": [],
   "source": [
    "import sys\n",
    "sys.path.append('../')\n",
    "\n",
    "import api.spotify as spotify\n",
    "import api.utils as utils\n",
    "\n",
    "from api.spotify import FeatureType, FeatureFilter\n",
    "\n",
    "import clt.input_tools as clinput\n",
    "import clt.spotidata as spotidata"
   ]
  },
  {
   "cell_type": "markdown",
   "metadata": {},
   "source": [
    "First, we need to load the application data and username, and login."
   ]
  },
  {
   "cell_type": "code",
   "execution_count": null,
   "metadata": {},
   "outputs": [],
   "source": [
    "username, scope = spotidata.boot('../config.yml')\n",
    "with spotify.login(username, scope) as sp_login:\n",
    "    sp = sp_login"
   ]
  },
  {
   "cell_type": "markdown",
   "metadata": {},
   "source": [
    "Now, you'll need to choose where you want your music from."
   ]
  },
  {
   "cell_type": "code",
   "execution_count": null,
   "metadata": {},
   "outputs": [],
   "source": [
    "use_saved_tracks = clinput.input_boolean(\"Do you want me to analyze your saved songs?\")\n",
    "print()\n",
    "print(\"Saved Albums:\")\n",
    "queried_albums = clinput.input_sublist(\"Which albums would you like to include in the analysis?\", sp.get_saved_albums())\n",
    "print()\n",
    "print(\"Playlists:\")\n",
    "queried_playlists = clinput.input_sublist(\"Which playlists would you like to include in the analysis?\", sp.get_playlists())\n",
    "\n",
    "print(\"=\"*12)\n",
    "print(\"including songs from:\")\n",
    "if use_saved_tracks:\n",
    "    print(\"  - your Saved Music library\")\n",
    "if len(queried_albums) != 0:\n",
    "    print(\"  - the following albums: {}\".format(utils.get_english_list(queried_albums)))\n",
    "if len(queried_playlists) != 0:\n",
    "    print(\"  - the following playlists: {}\".format(utils.get_english_list(queried_playlists)))"
   ]
  },
  {
   "cell_type": "markdown",
   "metadata": {},
   "source": [
    "Let's pull all that music and grab the features."
   ]
  },
  {
   "cell_type": "code",
   "execution_count": null,
   "metadata": {},
   "outputs": [],
   "source": [
    "print(\"Fetching songs...\")\n",
    "tracks = sp.get_tracks(use_saved_tracks, queried_albums, queried_playlists)\n",
    "print(\"Getting features...\")\n",
    "for track in tracks:\n",
    "    track.load_features(sp)\n",
    "print(\"Done.\")"
   ]
  },
  {
   "cell_type": "markdown",
   "metadata": {},
   "source": [
    "Now, we need to define the predicate that is used to filter the songs."
   ]
  },
  {
   "cell_type": "code",
   "execution_count": null,
   "metadata": {},
   "outputs": [],
   "source": [
    "# These filters attempt to make a lower-energy playlist.\n",
    "filters = [\n",
    "    FeatureFilter(FeatureType.ENERGY,       min_val=   0.0, max_val=   0.7),\n",
    "    FeatureFilter(FeatureType.TEMPO,        min_val=   0.0, max_val= 130.0),\n",
    "    FeatureFilter(FeatureType.LOUDNESS,     min_val= -60.0, max_val=  -6.0)\n",
    "]\n",
    "\n",
    "predicate = lambda track : track.satisfies_all(filters)"
   ]
  },
  {
   "cell_type": "markdown",
   "metadata": {},
   "source": [
    "All that's left to do is make the playlist!"
   ]
  },
  {
   "cell_type": "code",
   "execution_count": null,
   "metadata": {},
   "outputs": [],
   "source": [
    "constituent_tracks = sp.get_tracks_that_satisfy_predicate(tracks, predicate)\n",
    "sp.create_playlist(\"chill\", constituent_tracks)"
   ]
  }
 ],
 "metadata": {
  "kernelspec": {
   "display_name": "Python 3",
   "language": "python",
   "name": "python3"
  },
  "language_info": {
   "codemirror_mode": {
    "name": "ipython",
    "version": 3
   },
   "file_extension": ".py",
   "mimetype": "text/x-python",
   "name": "python",
   "nbconvert_exporter": "python",
   "pygments_lexer": "ipython3",
   "version": "3.7.6"
  }
 },
 "nbformat": 4,
 "nbformat_minor": 4
}
