{
 "cells": [
  {
   "cell_type": "markdown",
   "metadata": {},
   "source": [
    "# tunelyze Interactive\n",
    "Analyze Your Tunes™\n",
    "\n",
    "Uses the `tunelyze` command-line toolsuite to fetch songs from your saved music library, saved albums, and playlists, output/analyze/graph the data, and generate playlists from the source music with feature filters."
   ]
  },
  {
   "cell_type": "markdown",
   "metadata": {},
   "source": [
    "## Setup"
   ]
  },
  {
   "cell_type": "code",
   "execution_count": null,
   "metadata": {},
   "outputs": [],
   "source": [
    "import sys\n",
    "sys.path.append('../')\n",
    "\n",
    "import api.spotify as spotify\n",
    "import api.utils as utils\n",
    "\n",
    "from api.spotify import FeatureType, FeatureFilter\n",
    "\n",
    "import clt.input_tools as clinput\n",
    "import clt.tunelyze as tunelyze\n",
    "import clt.visualizer as viz"
   ]
  },
  {
   "cell_type": "markdown",
   "metadata": {},
   "source": [
    "First, we need to load the application data and username, and login."
   ]
  },
  {
   "cell_type": "code",
   "execution_count": null,
   "metadata": {},
   "outputs": [],
   "source": [
    "username, scope = tunelyze.boot('config.yml')\n",
    "with spotify.login(username, scope) as sp_login:\n",
    "    sp = sp_login"
   ]
  },
  {
   "cell_type": "markdown",
   "metadata": {},
   "source": [
    "## Music Sources\n",
    "Now, you'll need to choose where you want the source music to come from. You can either specify these using the picker below, which allows you choose individual playlists, indivudual albums (from the ones you've saved to your library), and whether or not to use all the songs you individually saved to your library."
   ]
  },
  {
   "cell_type": "code",
   "execution_count": null,
   "metadata": {},
   "outputs": [],
   "source": [
    "# Music source picker\n",
    "use_saved_tracks = clinput.input_boolean(\"Do you want me to analyze your saved songs?\")\n",
    "print()\n",
    "print(\"Saved Albums:\")\n",
    "queried_albums = clinput.input_sublist(\"Which albums would you like to include in the analysis?\", sp.get_saved_albums())\n",
    "print()\n",
    "print(\"Playlists:\")\n",
    "queried_playlists = clinput.input_sublist(\"Which playlists would you like to include in the analysis?\", sp.get_playlists())\n",
    "\n",
    "print(\"=\"*12)\n",
    "print(\"including songs from:\")\n",
    "if use_saved_tracks:\n",
    "    print(\"  - your Saved Music library\")\n",
    "if len(queried_albums) != 0:\n",
    "    print(\"  - the following albums: {}\".format(utils.get_english_list(queried_albums)))\n",
    "if len(queried_playlists) != 0:\n",
    "    print(\"  - the following playlists: {}\".format(utils.get_english_list(queried_playlists)))"
   ]
  },
  {
   "cell_type": "markdown",
   "metadata": {},
   "source": [
    "Now, we can pull all tracks from those sources and get the features, courtesy of the Spotify API."
   ]
  },
  {
   "cell_type": "code",
   "execution_count": null,
   "metadata": {},
   "outputs": [],
   "source": [
    "print(\"Fetching songs...\")\n",
    "tracks = sp.get_tracks(use_saved_tracks, [album.id for album in queried_albums], [playlist.id for playlist in queried_playlists])\n",
    "print(\"   Done.\")\n",
    "\n",
    "print(\"Getting features...\")\n",
    "sp.load_features(tracks)\n",
    "print(\"   Done.\")"
   ]
  },
  {
   "cell_type": "markdown",
   "metadata": {},
   "source": [
    "If you'd like, you can print out all of the tracks, their artists, and their features in a delimeted spreadsheet format. Unfortunaely, because of all of the commas present in titles and artists, you might not be able to use a CSV-format, so specify the delimeter to your liking."
   ]
  },
  {
   "cell_type": "code",
   "execution_count": null,
   "metadata": {},
   "outputs": [],
   "source": [
    "delimiter = '---'\n",
    "for line in tunelyze.get_delimited_spreadsheet(tracks, delimiter):\n",
    "    print(line)"
   ]
  },
  {
   "cell_type": "markdown",
   "metadata": {},
   "source": [
    "## Feature Visualization\n",
    "Because we have a lot of numbers, we can make fun histograms and pie charts and bar graphs for all of the music you selected.\n",
    "\n",
    "The actual definition of each of the features can be found on [Spotify's API docs, linked here](https://developer.spotify.com/documentation/web-api/reference/tracks/get-audio-features/#audio-features-object)."
   ]
  },
  {
   "cell_type": "code",
   "execution_count": null,
   "metadata": {},
   "outputs": [],
   "source": [
    "%matplotlib inline\n",
    "viz.plot_all_features(tracks)"
   ]
  },
  {
   "cell_type": "markdown",
   "metadata": {},
   "source": [
    "## Feature Filtering\n",
    "In addition to just looking at the distribution of features for the songs, we can also get subsets of these songs based on `FeatureFilter`s, which are defined on ranges (for the numerical features) or lists of values (for the discrete-valued filters of key and mode).\n",
    "\n",
    "In addition to the `Track.satisfies_all(filters)` and `Track.satsisfies_any(filters)`, you can also use `FeatureFilter.is_satisfied_by(track)` to make more complex filter predicates."
   ]
  },
  {
   "cell_type": "code",
   "execution_count": null,
   "metadata": {},
   "outputs": [],
   "source": [
    "# This predicate attempts to make a lower-energy playlist.\n",
    "filters = [\n",
    "    FeatureFilter(FeatureType.ENERGY,       min_val=   0.0, max_val=   0.6),\n",
    "    FeatureFilter(FeatureType.TEMPO,        min_val=   0.0, max_val= 130.0),\n",
    "    FeatureFilter(FeatureType.LOUDNESS,     min_val= -60.0, max_val=  -7.0)\n",
    "]\n",
    "\n",
    "predicate = lambda track : track.satisfies_all(filters)"
   ]
  },
  {
   "cell_type": "code",
   "execution_count": null,
   "metadata": {},
   "outputs": [],
   "source": [
    "# This predicate attempts to make a dance-y playlist\n",
    "filters = [\n",
    "    FeatureFilter(FeatureType.ENERGY,         min_val=    0.6,  max_val=    1.0),\n",
    "    FeatureFilter(FeatureType.DANCEABILITY,   min_val=    0.65, max_val=    1.0)\n",
    "]\n",
    "\n",
    "predicate = lambda track : track.satisfies_all(filters)"
   ]
  },
  {
   "cell_type": "code",
   "execution_count": null,
   "metadata": {},
   "outputs": [],
   "source": [
    "# This predicare only allows music in the key of C minor or E major, if you're in to that...\n",
    "c_minor = [\n",
    "    FeatureFilter(FeatureType.KEY,         values=['C']),\n",
    "    FeatureFilter(FeatureType.MODE,        values=['minor'])\n",
    "]\n",
    "\n",
    "e_major = [\n",
    "    FeatureFilter(FeatureType.KEY,         values=['E']),\n",
    "    FeatureFilter(FeatureType.MODE,        values=['major'])\n",
    "]\n",
    "\n",
    "predicate = lambda track : track.satisfies_all(c_minor) or track.satisfies_all(e_major)"
   ]
  },
  {
   "cell_type": "markdown",
   "metadata": {},
   "source": [
    "Now, we can get the tracks that satisfy our predicate..."
   ]
  },
  {
   "cell_type": "code",
   "execution_count": null,
   "metadata": {},
   "outputs": [],
   "source": [
    "filtered_tracks = spotify.get_tracks_that_satisfy_predicate(tracks, predicate)"
   ]
  },
  {
   "cell_type": "markdown",
   "metadata": {},
   "source": [
    "visualize them with respect to our source songs..."
   ]
  },
  {
   "cell_type": "code",
   "execution_count": null,
   "metadata": {},
   "outputs": [],
   "source": [
    "viz.plot_all_features(tracks, filtered_tracks)"
   ]
  },
  {
   "cell_type": "markdown",
   "metadata": {},
   "source": [
    "and create a playlist with those songs."
   ]
  },
  {
   "cell_type": "code",
   "execution_count": null,
   "metadata": {},
   "outputs": [],
   "source": [
    "plist_id = sp.create_playlist(\"dance dance\", [track.id for track in filtered_tracks])\n",
    "\"Playlist URL: https://open.spotify.com/playlist/\" + plist_id"
   ]
  },
  {
   "cell_type": "code",
   "execution_count": null,
   "metadata": {},
   "outputs": [],
   "source": []
  }
 ],
 "metadata": {
  "kernelspec": {
   "display_name": "Python 3",
   "language": "python",
   "name": "python3"
  },
  "language_info": {
   "codemirror_mode": {
    "name": "ipython",
    "version": 3
   },
   "file_extension": ".py",
   "mimetype": "text/x-python",
   "name": "python",
   "nbconvert_exporter": "python",
   "pygments_lexer": "ipython3",
   "version": "3.7.7"
  }
 },
 "nbformat": 4,
 "nbformat_minor": 4
}
